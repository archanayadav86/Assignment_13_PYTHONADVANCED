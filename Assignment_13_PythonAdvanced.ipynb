{
 "cells": [
  {
   "cell_type": "markdown",
   "metadata": {},
   "source": [
    "Q1. Can you create a programme or function that employs both positive and negative indexing? Is there any repercussion if you do so?"
   ]
  },
  {
   "cell_type": "markdown",
   "metadata": {},
   "source": [
    "Ans--> In Python, we can start indexing from the end of an iterable. This is known as negative indexing. This means we can use both positive and negative indexes to access iterables.\n",
    "\n",
    "mylist = ['ape', 'bat', 'cat', 'dog']\n",
    " \n",
    "#Check index examples. \n",
    "mylist[0] \n",
    "mylist[2] \n",
    " \n",
    "mylist[-1] \n",
    "mylist[-2] \n",
    "mylist[-3] \n",
    "Just thought to let you know an important use of negative indexing, especially the last item; index -1. In a very large list or say in a program where input() of users gets appended to the list, it'd be hard or impossible to know the last item or the last one in. In such a case, indexing the list at -1 should grab you the last item in your large list or the last one input.\n",
    "\n",
    "Also, note that you can use negative indexing to fetch the same item you do with positive indexing. The index absolute values MIGHT just be off but not necessarily so. From the above example, you can grab ‘bat' by positive index 1, or by negative indexing -3. You can grab ‘cat' by positive index 2, or by negative indexing -2.\n",
    "\n",
    "mylist = ['ape', 'bat', 'cat', 'dog'] \n",
    " \n",
    "mylist[1] == mylist[-3] \n",
    "#True \n",
    "mylist[2] == mylist[-2] \n",
    "#True "
   ]
  },
  {
   "cell_type": "markdown",
   "metadata": {},
   "source": [
    "Q2. What is the most effective way of starting with 1,000 elements in a Python list? Assume that all elements should be set to the same value."
   ]
  },
  {
   "cell_type": "markdown",
   "metadata": {},
   "source": [
    "Ans-->Python is a very flexible language where a single task can be performed in a number of ways, for example initializing lists can be performed in many ways. However, there are subtle differences in these seemingly similar methods. Python which is popular for its simplicity and readability is equally infamous for being slow compared to C++ or Java. The ‘for’ loop is especially known to be slow whereas methods like map() and filter() are known to be faster because they are written in C. Knowing the better and faster way to initialize lists might give you a slight edge in competitive programming.\n",
    "\n",
    "The following are some of the ways to initialize lists(we create lists of size 1000 and initialize with zeros) in Python.\n",
    "\n",
    "Using a for loop and append()\n",
    "We create an empty an list and run a for loop for n times using the append() method to add elements to the list.\n",
    "\n",
    "arr = []\n",
    "for i in range(1000):\n",
    "    arr.append(0)"
   ]
  },
  {
   "cell_type": "markdown",
   "metadata": {},
   "source": [
    "Q3. How do you slice a list to get any other part while missing the rest? (For example, suppose you want to make a new list with the elements first, third, fifth, seventh, and so on.)\n",
    "\n"
   ]
  },
  {
   "cell_type": "markdown",
   "metadata": {},
   "source": [
    "Ans-->In Python, list slicing is a common practice and it is the most used technique for programmers to solve efficient problems. Consider a python list, In-order to access a range of elements in a list, you need to slice a list. One way to do this is to use the simple slicing operator i.e. colon(:)\n",
    "\n",
    "With this operator, one can specify where to start the slicing, where to end, and specify the step. List slicing returns a new list from the existing list.\n",
    "\n",
    "Syntax:\n",
    "\n",
    "Lst[ Initial : End : IndexJump ]\n",
    "List = [1, 2, 3, 4, 5, 6, 7, 8, 9]\n",
    " \n",
    "\n",
    "print(\"\\nOriginal List:\\n\", List)\n",
    " \n",
    "print(\"\\nSliced Lists: \")\n",
    " \n",
    "\n",
    "print(List[3:9:2])\n",
    " \n",
    "\n",
    "print(List[::2])\n",
    " \n",
    "\n",
    "print(List[::])"
   ]
  },
  {
   "cell_type": "markdown",
   "metadata": {},
   "source": [
    "Q4. Explain the distinctions between indexing and slicing."
   ]
  },
  {
   "cell_type": "markdown",
   "metadata": {},
   "source": [
    "Ans--> “Indexing” means referring to an element of an iterable by its position within the iterable. “Slicing” means getting a subset of elements from an iterable based on their indices"
   ]
  },
  {
   "cell_type": "markdown",
   "metadata": {},
   "source": [
    "Q5. What happens if one of the slicing expression's indexes is out of range?"
   ]
  },
  {
   "cell_type": "markdown",
   "metadata": {},
   "source": [
    "Ans-->The slice just takes all elements up to the maximal element. If the start index is out of bounds as well, it returns the empty slice."
   ]
  },
  {
   "cell_type": "markdown",
   "metadata": {},
   "source": [
    "Q6. If you pass a list to a function, and if you want the function to be able to change the values of the list—so that the list is different after the function returns—what action should you avoid?"
   ]
  },
  {
   "cell_type": "markdown",
   "metadata": {},
   "source": [
    "Ans-->In the following simplistic example variables x and y are assigned and passed into a function, where, under new names, they’re modified, summed and the result returned:\n",
    "\n",
    "x,y = 2,3\n",
    "def some_function(a,b):\n",
    "    z = a*2 + b*2\n",
    "    return z\n",
    "\n",
    "z = some_function(x,y)\n",
    "print(x, y, z)\n",
    "\n",
    "x = [[2,2]]\n",
    "y = [[3,3]]  \n",
    "\n",
    "def some_function(a,b):\n",
    "    z = a + b                        \n",
    "\n",
    "for i in range(len(z)):\n",
    "    z[i][1] *= -1\n",
    "    return z\n",
    "\n",
    "z = some_function(x,y)\n",
    "\n",
    "print(f\"z = {z}\") \n",
    "print(f\"x (now) = {x}\")\n",
    "print(f\"y (now) = {y}\")"
   ]
  },
  {
   "cell_type": "markdown",
   "metadata": {},
   "source": [
    "Q7. What is the concept of an unbalanced matrix?"
   ]
  },
  {
   "cell_type": "markdown",
   "metadata": {},
   "source": [
    "Ans-->Whenever the cost matrix of an assignment problem is not a square matrix, that is, whenever the number of sources is not equal to the number of destinations, the assignment problem is called an unbalanced assignment problem."
   ]
  },
  {
   "cell_type": "markdown",
   "metadata": {},
   "source": [
    "Q8. Why is it necessary to use either list comprehension or a loop to create arbitrarily large matrices?"
   ]
  },
  {
   "cell_type": "markdown",
   "metadata": {},
   "source": [
    "Ans-->List comprehensions are often faster than loops because they use a more optimized internal mechanism for iterating over the collection. Additionally, list comprehensions allow you to perform transformations and filtering in a single statement, which can lead to more efficient code.\n",
    "List Comprehension\n",
    "Facilitates writing the code in fewer lines.\n",
    "Allows writing codes that are easier to understand and that adhere to Python guidelines.\n",
    "Converts iterable (list) into a formula.\n",
    "Filters and maps the items in a list to boost code performance.\n",
    "The for loop is a common way to iterate through a list. List comprehension, on the other hand, is a more efficient way to iterate through a list because it requires fewer lines of code. List comprehension requires less computation power than a for loop because it takes up less space and code."
   ]
  }
 ],
 "metadata": {
  "kernelspec": {
   "display_name": "Python 3",
   "language": "python",
   "name": "python3"
  },
  "language_info": {
   "codemirror_mode": {
    "name": "ipython",
    "version": 3
   },
   "file_extension": ".py",
   "mimetype": "text/x-python",
   "name": "python",
   "nbconvert_exporter": "python",
   "pygments_lexer": "ipython3",
   "version": "3.7.6"
  }
 },
 "nbformat": 4,
 "nbformat_minor": 4
}
